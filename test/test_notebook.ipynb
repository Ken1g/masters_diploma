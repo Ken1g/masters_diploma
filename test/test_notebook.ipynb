{
 "cells": [
  {
   "cell_type": "code",
   "execution_count": 117,
   "id": "94e8cebd",
   "metadata": {},
   "outputs": [],
   "source": [
    "import numpy as np\n",
    "from speechbrain.dataio.dataio import read_audio, write_audio\n",
    "from speechbrain.processing.speech_augmentation import AddNoise, AddReverb, DropFreq, DropChunk\n",
    "import torch\n"
   ]
  },
  {
   "cell_type": "code",
   "execution_count": 118,
   "id": "5137fd7b",
   "metadata": {},
   "outputs": [],
   "source": [
    "input_file_path = 'input.wav'\n",
    "output_file_path = 'output.wav'"
   ]
  },
  {
   "cell_type": "code",
   "execution_count": 119,
   "id": "ffe27957",
   "metadata": {},
   "outputs": [
    {
     "name": "stdout",
     "output_type": "stream",
     "text": [
      "input_size torch.Size([160000])\n"
     ]
    }
   ],
   "source": [
    "input = read_audio(input_file_path)\n",
    "print('input_size', input.size())\n"
   ]
  },
  {
   "cell_type": "code",
   "execution_count": 120,
   "id": "0a080955",
   "metadata": {},
   "outputs": [],
   "source": [
    "noisifier = AddNoise(\n",
    "    '/home/kenig/Documents/task_2022/base/dcase2022_task2_baseline_ae/reverberate/speechbrain/samples/noise_samples/noise.csv',\n",
    "    pad_noise=True,\n",
    "    normalize=True,\n",
    "    sorting='original'\n",
    ")\n"
   ]
  },
  {
   "cell_type": "code",
   "execution_count": 121,
   "id": "326f7b38",
   "metadata": {},
   "outputs": [],
   "source": [
    "for i in range(2):\n",
    "    output = noisifier(input.unsqueeze(0), torch.ones(1))\n",
    "    output = output.squeeze()\n",
    "    write_audio(f'noise_{i}_' + output_file_path, output, 16000)"
   ]
  },
  {
   "cell_type": "code",
   "execution_count": 122,
   "id": "1aaf0268",
   "metadata": {},
   "outputs": [],
   "source": [
    "noisifier = AddReverb(\n",
    "    '/home/kenig/Documents/task_2022/base/dcase2022_task2_baseline_ae/reverberate/speechbrain/samples/rir_samples/rirs.csv',\n",
    ")"
   ]
  },
  {
   "cell_type": "code",
   "execution_count": 123,
   "id": "9f636f63",
   "metadata": {},
   "outputs": [],
   "source": [
    "for i in range(4):\n",
    "    output = noisifier(input.unsqueeze(0), torch.ones(1))\n",
    "    output = output.squeeze()\n",
    "    write_audio(f'reverb_{i}_' + output_file_path, output, 16000)"
   ]
  },
  {
   "cell_type": "code",
   "execution_count": 124,
   "id": "9a9b521d",
   "metadata": {},
   "outputs": [],
   "source": [
    "noisifier = DropFreq()"
   ]
  },
  {
   "cell_type": "code",
   "execution_count": 129,
   "id": "32d1a0d1",
   "metadata": {},
   "outputs": [
    {
     "name": "stdout",
     "output_type": "stream",
     "text": [
      "torch.Size([160000])\n",
      "torch.Size([160000])\n"
     ]
    }
   ],
   "source": [
    "for i in range(2):\n",
    "    print(input.size())\n",
    "    output = noisifier(input.unsqueeze(0))\n",
    "    output = output.squeeze()\n",
    "    write_audio(f'drop_freq_{i}_' + output_file_path, output, 16000)"
   ]
  },
  {
   "cell_type": "code",
   "execution_count": null,
   "id": "c9c480a9",
   "metadata": {},
   "outputs": [],
   "source": []
  },
  {
   "cell_type": "code",
   "execution_count": 137,
   "id": "1b393d3d",
   "metadata": {},
   "outputs": [],
   "source": [
    "\n",
    "\n",
    "    "
   ]
  },
  {
   "cell_type": "code",
   "execution_count": null,
   "id": "54f19e9f",
   "metadata": {},
   "outputs": [],
   "source": []
  }
 ],
 "metadata": {
  "kernelspec": {
   "display_name": "Python 3",
   "language": "python",
   "name": "python3"
  },
  "language_info": {
   "codemirror_mode": {
    "name": "ipython",
    "version": 3
   },
   "file_extension": ".py",
   "mimetype": "text/x-python",
   "name": "python",
   "nbconvert_exporter": "python",
   "pygments_lexer": "ipython3",
   "version": "3.8.10"
  }
 },
 "nbformat": 4,
 "nbformat_minor": 5
}
